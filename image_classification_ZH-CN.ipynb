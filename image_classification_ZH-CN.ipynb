{
 "cells": [
  {
   "cell_type": "markdown",
   "metadata": {
    "collapsed": true
   },
   "source": [
    "# Image Classification\n",
    "In this project, you'll classify images from the [CIFAR-10 dataset](https://www.cs.toronto.edu/~kriz/cifar.html).  The dataset consists of airplanes, dogs, cats, and other objects. You'll preprocess the images, then train a convolutional neural network on all the samples. The images need to be normalized and the labels need to be one-hot encoded.  You'll get to apply what you learned and build a convolutional, max pooling, dropout, and fully connected layers.  At the end, you'll get to see your neural network's predictions on the sample images.\n",
    "## Get the Data\n",
    "Run the following cell to download the [CIFAR-10 dataset for python](https://www.cs.toronto.edu/~kriz/cifar-10-python.tar.gz)."
   ]
  },
  {
   "cell_type": "markdown",
   "metadata": {},
   "source": [
    "\n",
    "# 图像分类\n",
    "\n",
    "在该项目中，你将会对来自 [CIFAR-10 数据集](https://www.cs.toronto.edu/~kriz/cifar.html) 中的图像进行分类。数据集中图片的内容包括飞机（airplane）、狗（dogs）、猫（cats）及其他物体。你需要处理这些图像，接着对所有的样本训练一个卷积神经网络。\n",
    "\n",
    "具体而言，在项目中你要对图像进行正规化处理（normalization)，同时还要对图像的标签进行 one-hot 编码。接着你将会应用到你所学的技能来搭建一个具有卷积层、最大池化（Max Pooling）层、Dropout  层及全连接（fully connected）层的神经网络。最后，你会训练你的神经网络，会得到你神经网络在样本图像上的预测结果。\n",
    "\n",
    "## 下载数据\n",
    "\n",
    "运行如下代码下载 [CIFAR-10 dataset for python](https://www.cs.toronto.edu/~kriz/cifar-10-python.tar.gz)。"
   ]
  },
  {
   "cell_type": "code",
   "execution_count": 1,
   "metadata": {
    "collapsed": false
   },
   "outputs": [
    {
     "name": "stdout",
     "output_type": "stream",
     "text": [
      "All files found!\n"
     ]
    }
   ],
   "source": [
    "\"\"\"\n",
    "DON'T MODIFY ANYTHING IN THIS CELL THAT IS BELOW THIS LINE\n",
    "\"\"\"\n",
    "from urllib.request import urlretrieve\n",
    "from os.path import isfile, isdir\n",
    "from tqdm import tqdm\n",
    "import problem_unittests as tests\n",
    "import tarfile\n",
    "\n",
    "cifar10_dataset_folder_path = 'cifar-10-batches-py'\n",
    "\n",
    "class DLProgress(tqdm):\n",
    "    last_block = 0\n",
    "\n",
    "    def hook(self, block_num=1, block_size=1, total_size=None):\n",
    "        self.total = total_size\n",
    "        self.update((block_num - self.last_block) * block_size)\n",
    "        self.last_block = block_num\n",
    "\n",
    "if not isfile('cifar-10-python.tar.gz'):\n",
    "    with DLProgress(unit='B', unit_scale=True, miniters=1, desc='CIFAR-10 Dataset') as pbar:\n",
    "        urlretrieve(\n",
    "            'https://www.cs.toronto.edu/~kriz/cifar-10-python.tar.gz',\n",
    "            'cifar-10-python.tar.gz',\n",
    "            pbar.hook)\n",
    "\n",
    "if not isdir(cifar10_dataset_folder_path):\n",
    "    with tarfile.open('cifar-10-python.tar.gz') as tar:\n",
    "        tar.extractall()\n",
    "        tar.close()\n",
    "\n",
    "\n",
    "tests.test_folder_path(cifar10_dataset_folder_path)"
   ]
  },
  {
   "cell_type": "markdown",
   "metadata": {},
   "source": [
    "## Explore the Data\n",
    "The dataset is broken into batches to prevent your machine from running out of memory.  The CIFAR-10 dataset consists of 5 batches, named `data_batch_1`, `data_batch_2`, etc.. Each batch contains the labels and images that are one of the following:\n",
    "* airplane\n",
    "* automobile\n",
    "* bird\n",
    "* cat\n",
    "* deer\n",
    "* dog\n",
    "* frog\n",
    "* horse\n",
    "* ship\n",
    "* truck\n",
    "\n",
    "Understanding a dataset is part of making predictions on the data.  Play around with the code cell below by changing the `batch_id` and `sample_id`. The `batch_id` is the id for a batch (1-5). The `sample_id` is the id for a image and label pair in the batch.\n",
    "\n",
    "Ask yourself \"What are all possible labels?\", \"What is the range of values for the image data?\", \"Are the labels in order or random?\".  Answers to questions like these will help you preprocess the data and end up with better predictions."
   ]
  },
  {
   "cell_type": "markdown",
   "metadata": {},
   "source": [
    "## 探索数据集\n",
    "\n",
    "\n",
    "为防止在运行过程中内存不足的问题，该数据集已经事先被分成了5批（batch），名为`data_batch_1`、`data_batch_2`等。每一批中都含有 *图像* 及对应的 *标签*，都是如下类别中的一种：\n",
    "\n",
    "* 飞机\n",
    "* 汽车\n",
    "* 鸟\n",
    "* 鹿\n",
    "* 狗\n",
    "* 青蛙\n",
    "* 马\n",
    "* 船\n",
    "* 卡车\n",
    "\n",
    "理解数据集也是对数据进行预测的一部分。修改如下代码中的 `batch_id` 和 `sample_id`，看看输出的图像是什么样子。其中，`batch_id` 代表着批次数（1-5），`sample_id` 代表着在该批内图像及标签的编号。\n",
    "\n",
    "你可以尝试回答如下问题：\n",
    "* 可能出现的 *标签* 都包括哪些？\n",
    "* 图像数据的取值范围是多少？\n",
    "* *标签* 的排列顺序是随机的还是有序的？\n",
    "\n",
    "对这些问题的回答，会有助于更好地处理数据，并能更好地进行预测。"
   ]
  },
  {
   "cell_type": "code",
   "execution_count": 2,
   "metadata": {
    "collapsed": false
   },
   "outputs": [
    {
     "name": "stdout",
     "output_type": "stream",
     "text": [
      "\n",
      "Stats of batch 1:\n",
      "Samples: 10000\n",
      "Label Counts: {0: 1005, 1: 974, 2: 1032, 3: 1016, 4: 999, 5: 937, 6: 1030, 7: 1001, 8: 1025, 9: 981}\n",
      "First 20 Labels: [6, 9, 9, 4, 1, 1, 2, 7, 8, 3, 4, 7, 7, 2, 9, 9, 9, 3, 2, 6]\n",
      "\n",
      "Example of Image 5:\n",
      "Image - Min Value: 0 Max Value: 252\n",
      "Image - Shape: (32, 32, 3)\n",
      "Label - Label Id: 1 Name: automobile\n"
     ]
    },
    {
     "data": {
      "image/png": "[encoded data removed]",
      "text/plain": [
       "<matplotlib.figure.Figure at 0xa4dc198>"
      ]
     },
     "metadata": {
      "image/png": {
       "height": 250,
       "width": 253
      }
     },
     "output_type": "display_data"
    }
   ],
   "source": [
    "%matplotlib inline\n",
    "%config InlineBackend.figure_format = 'retina'\n",
    "\n",
    "import helper\n",
    "import numpy as np\n",
    "\n",
    "# Explore the dataset\n",
    "batch_id = 1\n",
    "sample_id = 5\n",
    "helper.display_stats(cifar10_dataset_folder_path, batch_id, sample_id)"
   ]
  },
  {
   "cell_type": "markdown",
   "metadata": {},
   "source": [
    "## Implement Preprocess Functions\n",
    "### Normalize\n",
    "In the cell below, implement the `normalize` function to take in image data, `x`, and return it as a normalized Numpy array. The values should be in the range of 0 to 1, inclusive.  The return object should be the same shape as `x`."
   ]
  },
  {
   "cell_type": "markdown",
   "metadata": {},
   "source": [
    "## 图像预处理功能的实现\n",
    "### 正规化\n",
    "\n",
    "在如下的代码中，修改 `normalize` 函数，使之能够对输入的图像数据 `x` 进行处理，输出一个经过正规化的、Numpy array 格式的图像数据。\n",
    "\n",
    "**注意：**\n",
    "处理后的值应当在 $[0,1]$ 的范围之内。返回值应当和输入值具有相同的形状。"
   ]
  },
  {
   "cell_type": "code",
   "execution_count": 3,
   "metadata": {
    "collapsed": false
   },
   "outputs": [
    {
     "name": "stdout",
     "output_type": "stream",
     "text": [
      "Tests Passed\n"
     ]
    }
   ],
   "source": [
    "def normalize(x):\n",
    "    \"\"\"\n",
    "    Normalize a list of sample image data in the range of 0 to 1\n",
    "    : x: List of image data.  The image shape is (32, 32, 3)\n",
    "    : return: Numpy array of normalize data\n",
    "    \"\"\"\n",
    "    # TODO: Implement Function\n",
    "    X_normaled = (x-np.min(x))/(np.max(x)-np.min(x))\n",
    "    return X_normaled\n",
    "\n",
    "\n",
    "\"\"\"\n",
    "DON'T MODIFY ANYTHING IN THIS CELL THAT IS BELOW THIS LINE\n",
    "\"\"\"\n",
    "tests.test_normalize(normalize)"
   ]
  },
  {
   "cell_type": "markdown",
   "metadata": {},
   "source": [
    "### One-hot encode\n",
    "Just like the previous code cell, you'll be implementing a function for preprocessing.  This time, you'll implement the `one_hot_encode` function. The input, `x`, are a list of labels.  Implement the function to return the list of labels as One-Hot encoded Numpy array.  The possible values for labels are 0 to 9. The one-hot encoding function should return the same encoding for each value between each call to `one_hot_encode`.  Make sure to save the map of encodings outside the function.\n",
    "\n",
    "**Hint:**\n",
    "\n",
    "Look into LabelBinarizer in the preprocessing module of sklearn."
   ]
  },
  {
   "cell_type": "markdown",
   "metadata": {},
   "source": [
    "### One-hot 编码\n",
    "\n",
    "在如下代码中，你将继续实现预处理的功能，实现一个 `one_hot_encode` 函数。函数的输入 `x` 是 *标签* 构成的列表，返回值是经过 One_hot 处理过后的这列 *标签* 对应的 One_hot 编码，以 Numpy array 储存。其中，*标签* 的取值范围从0到9。每次调用该函数时，对相同的标签值，它输出的编码也是相同的。请确保在函数外保存编码的映射（map of encodings）。\n",
    "\n",
    "**提示：**\n",
    "\n",
    "你可以尝试使用 sklearn preprocessing 模块中的 `LabelBinarizer` 函数。"
   ]
  },
  {
   "cell_type": "code",
   "execution_count": 4,
   "metadata": {
    "collapsed": false
   },
   "outputs": [
    {
     "name": "stdout",
     "output_type": "stream",
     "text": [
      "Tests Passed\n"
     ]
    }
   ],
   "source": [
    "from sklearn import preprocessing\n",
    "lb = preprocessing.LabelBinarizer()\n",
    "lb.fit(range(10))\n",
    "\n",
    "def one_hot_encode(x):\n",
    "    \"\"\"\n",
    "    One hot encode a list of sample labels. Return a one-hot encoded vector for each label.\n",
    "    : x: List of sample Labels\n",
    "    : return: Numpy array of one-hot encoded labels\n",
    "    \"\"\"\n",
    "    # TODO: Implement Function\n",
    "    one_hot = lb.transform(x)\n",
    "    return one_hot\n",
    "\n",
    "\n",
    "\"\"\"\n",
    "DON'T MODIFY ANYTHING IN THIS CELL THAT IS BELOW THIS LINE\n",
    "\"\"\"\n",
    "tests.test_one_hot_encode(one_hot_encode)"
   ]
  },
  {
   "cell_type": "markdown",
   "metadata": {},
   "source": [
    "### Randomize Data\n",
    "As you saw from exploring the data above, the order of the samples are randomized.  It doesn't hurt to randomize it again, but you don't need to for this dataset."
   ]
  },
  {
   "cell_type": "markdown",
   "metadata": {},
   "source": [
    "### 随机打乱数据\n",
    "\n",
    "正如你在上方探索数据部分所看到的，样本的顺序已经被随机打乱了。尽管再随机处理一次也没问题，不过对于该数据我们没必要再进行一次相关操作了。"
   ]
  },
  {
   "cell_type": "markdown",
   "metadata": {},
   "source": [
    "## Preprocess all the data and save it\n",
    "Running the code cell below will preprocess all the CIFAR-10 data and save it to file. The code below also uses 10% of the training data for validation."
   ]
  },
  {
   "cell_type": "markdown",
   "metadata": {},
   "source": [
    "## 对所有图像数据进行预处理并保存结果\n",
    "\n",
    "运行如下代码，它将会预处理所有的 CIFAR-10 数据并将它另存为文件。此外，如下的代码还将会把 10% 的训练数据留出作为验证数据。"
   ]
  },
  {
   "cell_type": "code",
   "execution_count": 5,
   "metadata": {
    "collapsed": false
   },
   "outputs": [],
   "source": [
    "\"\"\"\n",
    "DON'T MODIFY ANYTHING IN THIS CELL\n",
    "\"\"\"\n",
    "# Preprocess Training, Validation, and Testing Data\n",
    "helper.preprocess_and_save_data(cifar10_dataset_folder_path, normalize, one_hot_encode)"
   ]
  },
  {
   "cell_type": "markdown",
   "metadata": {},
   "source": [
    "# Check Point\n",
    "This is your first checkpoint.  If you ever decide to come back to this notebook or have to restart the notebook, you can start from here.  The preprocessed data has been saved to disk."
   ]
  },
  {
   "cell_type": "markdown",
   "metadata": {},
   "source": [
    "# 检查点\n",
    "\n",
    "这是你的首个检查点。因为预处理完的数据已经被保存到硬盘上了，所以如果你需要回顾或重启该 notebook，你可以在这里重新开始。"
   ]
  },
  {
   "cell_type": "code",
   "execution_count": 6,
   "metadata": {
    "collapsed": true
   },
   "outputs": [],
   "source": [
    "\"\"\"\n",
    "DON'T MODIFY ANYTHING IN THIS CELL\n",
    "\"\"\"\n",
    "import pickle\n",
    "import problem_unittests as tests\n",
    "import helper\n",
    "\n",
    "# Load the Preprocessed Validation data\n",
    "valid_features, valid_labels = pickle.load(open('preprocess_validation.p', mode='rb'))"
   ]
  },
  {
   "cell_type": "markdown",
   "metadata": {},
   "source": [
    "## Build the network\n",
    "For the neural network, you'll build each layer into a function.  Most of the code you've seen has been outside of functions. To test your code more thoroughly, we require that you put each layer in a function.  This allows us to give you better feedback and test for simple mistakes using our unittests before you submit your project.\n",
    "\n",
    ">**Note:** If you're finding it hard to dedicate enough time for this course each week, we've provided a small shortcut to this part of the project. In the next couple of problems, you'll have the option to use classes from the [TensorFlow Layers](https://www.tensorflow.org/api_docs/python/tf/layers) or [TensorFlow Layers (contrib)](https://www.tensorflow.org/api_guides/python/contrib.layers) packages to build each layer, except the layers you build in the \"Convolutional and Max Pooling Layer\" section.  TF Layers is similar to Keras's and TFLearn's abstraction to layers, so it's easy to pickup.\n",
    "\n",
    ">However, if you would like to get the most out of this course, try to solve all the problems _without_ using anything from the TF Layers packages. You **can** still use classes from other packages that happen to have the same name as ones you find in TF Layers! For example, instead of using the TF Layers version of the `conv2d` class, [tf.layers.conv2d](https://www.tensorflow.org/api_docs/python/tf/layers/conv2d), you would want to use the TF Neural Network version of `conv2d`, [tf.nn.conv2d](https://www.tensorflow.org/api_docs/python/tf/nn/conv2d). \n",
    "\n",
    "Let's begin!\n",
    "\n",
    "### Input\n",
    "The neural network needs to read the image data, one-hot encoded labels, and dropout keep probability. Implement the following functions\n",
    "* Implement `neural_net_image_input`\n",
    " * Return a [TF Placeholder](https://www.tensorflow.org/api_docs/python/tf/placeholder)\n",
    " * Set the shape using `image_shape` with batch size set to `None`.\n",
    " * Name the TensorFlow placeholder \"x\" using the TensorFlow `name` parameter in the [TF Placeholder](https://www.tensorflow.org/api_docs/python/tf/placeholder).\n",
    "* Implement `neural_net_label_input`\n",
    " * Return a [TF Placeholder](https://www.tensorflow.org/api_docs/python/tf/placeholder)\n",
    " * Set the shape using `n_classes` with batch size set to `None`.\n",
    " * Name the TensorFlow placeholder \"y\" using the TensorFlow `name` parameter in the [TF Placeholder](https://www.tensorflow.org/api_docs/python/tf/placeholder).\n",
    "* Implement `neural_net_keep_prob_input`\n",
    " * Return a [TF Placeholder](https://www.tensorflow.org/api_docs/python/tf/placeholder) for dropout keep probability.\n",
    " * Name the TensorFlow placeholder \"keep_prob\" using the TensorFlow `name` parameter in the [TF Placeholder](https://www.tensorflow.org/api_docs/python/tf/placeholder).\n",
    "\n",
    "These names will be used at the end of the project to load your saved model.\n",
    "\n",
    "Note: `None` for shapes in TensorFlow allow for a dynamic size."
   ]
  },
  {
   "cell_type": "markdown",
   "metadata": {},
   "source": [
    "## 搭建神经网络\n",
    "\n",
    "为搭建神经网络，你需要将搭建每一层的过程封装到一个函数中。大部分的代码你在函数外已经见过。为能够更透彻地测试你的代码，我们要求你把每一层都封装到一个函数中。这能够帮助我们给予你更好的回复，同时还能让我们使用 unittests 在你提交报告前检测出你项目中的小问题。\n",
    "\n",
    ">**注意：** 如果你时间紧迫，那么在该部分我们为你提供了一个便捷方法。在接下来的一些问题中，你可以使用来自 [TensorFlow Layers](https://www.tensorflow.org/api_docs/python/tf/layers) 或 [TensorFlow Layers (contrib)](https://www.tensorflow.org/api_guides/python/contrib.layers) 包中的函数来搭建各层，不过不可以用他们搭建卷积-最大池化层。TF Layers 和 Keras 及 TFLean 中对层的抽象比较相似，所以你应该很容易上手。\n",
    "\n",
    ">\n",
    "\n",
    "\n",
    "However, if you would like to get the most out of this course, try to solve all the problems _without_ using anything from the TF Layers packages. You **can** still use classes from other packages that happen to have the same name as ones you find in TF Layers! For example, instead of using the TF Layers version of the `conv2d` class, [tf.layers.conv2d](https://www.tensorflow.org/api_docs/python/tf/layers/conv2d), you would want to use the TF Neural Network version of `conv2d`, [tf.nn.conv2d](https://www.tensorflow.org/api_docs/python/tf/nn/conv2d). \n",
    "\n",
    "不过，如果你希望能够更多地实践，我们希望你能够在**不**使用 TF Layers 的情况下解决所有问题。你依然**能**使用来自其他包但和 layers 中重名的函数。例如，你可以使用 TF Neural Network 版本的 `conv_2d\n",
    "\n",
    "让我们开始吧！\n",
    "\n",
    "### 输入\n",
    "\n",
    "神经网络需要能够读取图像数据、经 one-hot 编码之后的标签及 dropout 中的保留概率。修改如下函数：\n",
    "\n",
    "* 修改 `neural_net_image_input` 函数：\n",
    " * 返回 [TF Placeholder](https://www.tensorflow.org/api_docs/python/tf/placeholder)。\n",
    " * 使用 `image_shape` 设定形状，设定批大小（batch size)为 `None`。\n",
    " * 使用 [TF Placeholder](https://www.tensorflow.org/api_docs/python/tf/placeholder) 中的 `Name` 参数，命名该 TensorFlow placeholder 为 \"x\"。\n",
    "* 修改 `neural_net_label_input` 函数： \n",
    " * 返回 [TF Placeholder](https://www.tensorflow.org/api_docs/python/tf/placeholder)。\n",
    " * 使用 `n_classes` 设定形状，设定批大小（batch size)为 `None`。\n",
    " * 使用 [TF Placeholder](https://www.tensorflow.org/api_docs/python/tf/placeholder) 中的 `Name` 参数，命名该 TensorFlow placeholder 为 \"y\"。\n",
    "* 修改 `neural_net_keep_prob_input` 函数：\n",
    " * 返回 [TF Placeholder](https://www.tensorflow.org/api_docs/python/tf/placeholder) 作为 dropout 的保留概率（keep probability）。\n",
    " * 使用 [TF Placeholder](https://www.tensorflow.org/api_docs/python/tf/placeholder) 中的 `Name` 参数，命名该 TensorFlow placeholder 为 \"keep_prob\"。\n",
    " \n",
    "我们会在项目最后使用这些名字，来载入你储存的模型。\n",
    "\n",
    "**注意：**在 TensorFlow 中，对形状设定为 `None`，能帮助设定一个动态的大小。"
   ]
  },
  {
   "cell_type": "code",
   "execution_count": 7,
   "metadata": {
    "collapsed": false
   },
   "outputs": [
    {
     "name": "stdout",
     "output_type": "stream",
     "text": [
      "Image Input Tests Passed.\n",
      "Label Input Tests Passed.\n",
      "Keep Prob Tests Passed.\n"
     ]
    }
   ],
   "source": [
    "import tensorflow as tf\n",
    "\n",
    "\n",
    "def neural_net_image_input(image_shape):\n",
    "    \"\"\"\n",
    "    Return a Tensor for a batch of image input\n",
    "    : image_shape: Shape of the images\n",
    "    : return: Tensor for image input.\n",
    "    \"\"\"\n",
    "    # TODO: Implement Function\n",
    "    neural_net_image = tf.placeholder(tf.float32, shape=[None, *image_shape], name='x')\n",
    "    return neural_net_image\n",
    "\n",
    "\n",
    "def neural_net_label_input(n_classes):\n",
    "    \"\"\"\n",
    "    Return a Tensor for a batch of label input\n",
    "    : n_classes: Number of classes\n",
    "    : return: Tensor for label input.\n",
    "    \"\"\"\n",
    "    # TODO: Implement Function\n",
    "    neural_net_label = tf.placeholder(tf.float32, shape=[None, n_classes], name='y')\n",
    "    return neural_net_label\n",
    "\n",
    "\n",
    "def neural_net_keep_prob_input():\n",
    "    \"\"\"\n",
    "    Return a Tensor for keep probability\n",
    "    : return: Tensor for keep probability.\n",
    "    \"\"\"\n",
    "    # TODO: Implement Function\n",
    "    neural_net_keep_prob = tf.placeholder(tf.float32, name='keep_prob')\n",
    "    return neural_net_keep_prob\n",
    "\n",
    "\n",
    "\"\"\"\n",
    "DON'T MODIFY ANYTHING IN THIS CELL THAT IS BELOW THIS LINE\n",
    "\"\"\"\n",
    "tf.reset_default_graph()\n",
    "tests.test_nn_image_inputs(neural_net_image_input)\n",
    "tests.test_nn_label_inputs(neural_net_label_input)\n",
    "tests.test_nn_keep_prob_inputs(neural_net_keep_prob_input)"
   ]
  },
  {
   "cell_type": "markdown",
   "metadata": {},
   "source": [
    "### Convolution and Max Pooling Layer\n",
    "Convolution layers have a lot of success with images. For this code cell, you should implement the function `conv2d_maxpool` to apply convolution then max pooling:\n",
    "* Create the weight and bias using `conv_ksize`, `conv_num_outputs` and the shape of `x_tensor`.\n",
    "* Apply a convolution to `x_tensor` using weight and `conv_strides`.\n",
    " * We recommend you use same padding, but you're welcome to use any padding.\n",
    "* Add bias\n",
    "* Add a nonlinear activation to the convolution.\n",
    "* Apply Max Pooling using `pool_ksize` and `pool_strides`.\n",
    " * We recommend you use same padding, but you're welcome to use any padding.\n",
    "\n",
    "**Note:** You **can't** use [TensorFlow Layers](https://www.tensorflow.org/api_docs/python/tf/layers) or [TensorFlow Layers (contrib)](https://www.tensorflow.org/api_guides/python/contrib.layers) for **this** layer, but you can still use TensorFlow's [Neural Network](https://www.tensorflow.org/api_docs/python/tf/nn) package. You may still use the shortcut option for all the **other** layers.\n",
    "\n",
    "** Hint: **\n",
    "\n",
    "When unpacking values as an argument in Python, look into the [unpacking](https://docs.python.org/3/tutorial/controlflow.html#unpacking-argument-lists) operator. "
   ]
  },
  {
   "cell_type": "markdown",
   "metadata": {},
   "source": [
    "### 卷积-最大池（Convolution and Max Pooling）化层\n",
    "\n",
    "卷积层在图像处理中取得了不小的成功。在这部分的代码中，你需要修改 `conv2d_maxpool` 函数来先后实现卷积及最大池化的功能。\n",
    "\n",
    "* 使用 `conv_ksize`、`conv_num_outputs` 及 `x_tensor` 来创建权重（weight）及偏差（bias）变量。\n",
    "* 对 `x_tensor` 进行卷积，使用 `conv_strides` 及*权重*。\n",
    " * 我们建议使用 SAME padding，不过你也可尝试其他 padding 模式。 \n",
    "* 加上*偏差*。\n",
    "* 对卷积结果加上一个非线性函数作为激活层。\n",
    "* 基于 `pool_kszie` 及 `pool_strides` 进行最大池化。\n",
    " * 我们建议使用 SAME padding，不过你也可尝试其他 padding 模式。\n",
    " \n",
    "**注意：**\n",
    "你**不**可以使用来自 [TensorFlow Layers](https://www.tensorflow.org/api_docs/python/tf/layers) 或 [TensorFlow Layers (contrib)](https://www.tensorflow.org/api_guides/python/contrib.layers) 包中的函数来实现**这一层**的功能。但是你可以使用 TensorFlow 的[Neural Network](https://www.tensorflow.org/api_docs/python/tf/nn)包。\n",
    "\n",
    "对于如上的快捷方法，你在**其他层**中可以尝试使用。\n",
    "\n",
    "\n",
    "**提示：**\n",
    "当你在 Python 中希望展开（unpacking）某个变量的值作为函数的参数，你可以参考 [unpacking](https://docs.python.org/3/tutorial/controlflow.html#unpacking-argument-lists) 运算符。"
   ]
  },
  {
   "cell_type": "code",
   "execution_count": 8,
   "metadata": {
    "collapsed": false
   },
   "outputs": [
    {
     "name": "stdout",
     "output_type": "stream",
     "text": [
      "Tests Passed\n"
     ]
    }
   ],
   "source": [
    "def conv2d_maxpool(x_tensor, conv_num_outputs, conv_ksize, conv_strides, pool_ksize, pool_strides):\n",
    "    \"\"\"\n",
    "    Apply convolution then max pooling to x_tensor\n",
    "    :param x_tensor: TensorFlow Tensor\n",
    "    :param conv_num_outputs: Number of outputs for the convolutional layer\n",
    "    :param conv_ksize: kernal size 2-D Tuple for the convolutional layer\n",
    "    :param conv_strides: Stride 2-D Tuple for convolution\n",
    "    :param pool_ksize: kernal size 2-D Tuple for pool\n",
    "    :param pool_strides: Stride 2-D Tuple for pool\n",
    "    : return: A tensor that represents convolution and max pooling of x_tensor\n",
    "    \"\"\"\n",
    "    # TODO: Implement Function\n",
    "    weight = tf.Variable(tf.truncated_normal([conv_ksize[0], conv_ksize[1], int(x_tensor.shape[3]), conv_num_outputs], stddev = 0.01))\n",
    "    bias = tf.Variable(tf.zeros(conv_num_outputs))\n",
    "    \n",
    "    conv_layer = tf.nn.conv2d(x_tensor, weight, strides=[1, *conv_strides, 1], padding='SAME')\n",
    "    conv_layer = tf.nn.bias_add(conv_layer, bias)\n",
    "    conv_layer = tf.nn.max_pool(conv_layer,\n",
    "                                ksize=[1, *pool_ksize, 1],\n",
    "                                strides=[1, *pool_strides, 1],\n",
    "                                padding='SAME')\n",
    "    conv_layer = tf.nn.relu(conv_layer)\n",
    "    return conv_layer \n",
    "\n",
    "\n",
    "\"\"\"\n",
    "DON'T MODIFY ANYTHING IN THIS CELL THAT IS BELOW THIS LINE\n",
    "\"\"\"\n",
    "tests.test_con_pool(conv2d_maxpool)"
   ]
  },
  {
   "cell_type": "markdown",
   "metadata": {},
   "source": [
    "### Flatten Layer\n",
    "Implement the `flatten` function to change the dimension of `x_tensor` from a 4-D tensor to a 2-D tensor.  The output should be the shape (*Batch Size*, *Flattened Image Size*). Shortcut option: you can use classes from the [TensorFlow Layers](https://www.tensorflow.org/api_docs/python/tf/layers) or [TensorFlow Layers (contrib)](https://www.tensorflow.org/api_guides/python/contrib.layers) packages for this layer. For more of a challenge, only use other TensorFlow packages."
   ]
  },
  {
   "cell_type": "markdown",
   "metadata": {},
   "source": [
    "### 展开层\n",
    "\n",
    "修改 `flatten` 函数，来将4维的输入张量 `x_tensor` 转换为一个二维的张量。输出的形状应当是 `(Batch Size, Flattened Image Size)`。\n",
    "快捷方法：你可以使用来自 [TensorFlow Layers](https://www.tensorflow.org/api_docs/python/tf/layers) 或 [TensorFlow Layers (contrib)](https://www.tensorflow.org/api_guides/python/contrib.layers) 包中的函数来实现该功能。不过你也可以只使用 TensorFlow 包中的函数来挑战自己。"
   ]
  },
  {
   "cell_type": "code",
   "execution_count": 9,
   "metadata": {
    "collapsed": false
   },
   "outputs": [
    {
     "name": "stdout",
     "output_type": "stream",
     "text": [
      "Tests Passed\n"
     ]
    }
   ],
   "source": [
    "def flatten(x_tensor):\n",
    "    \"\"\"\n",
    "    Flatten x_tensor to (Batch Size, Flattened Image Size)\n",
    "    : x_tensor: A tensor of size (Batch Size, ...), where ... are the image dimensions.\n",
    "    : return: A tensor of size (Batch Size, Flattened Image Size).\n",
    "    \"\"\"\n",
    "    # TODO: Implement Function\n",
    "    x_flatten = tf.contrib.layers.flatten(x_tensor)\n",
    "    return x_flatten\n",
    "\n",
    "\n",
    "\"\"\"\n",
    "DON'T MODIFY ANYTHING IN THIS CELL THAT IS BELOW THIS LINE\n",
    "\"\"\"\n",
    "tests.test_flatten(flatten)"
   ]
  },
  {
   "cell_type": "markdown",
   "metadata": {},
   "source": [
    "### Fully-Connected Layer\n",
    "Implement the `fully_conn` function to apply a fully connected layer to `x_tensor` with the shape (*Batch Size*, *num_outputs*). Shortcut option: you can use classes from the [TensorFlow Layers](https://www.tensorflow.org/api_docs/python/tf/layers) or [TensorFlow Layers (contrib)](https://www.tensorflow.org/api_guides/python/contrib.layers) packages for this layer. For more of a challenge, only use other TensorFlow packages."
   ]
  },
  {
   "cell_type": "markdown",
   "metadata": {},
   "source": [
    "### 全连接层\n",
    "\n",
    "修改 `fully_conn` 函数，来对形如 `(batch Size, num_outputs)` 的输入 `x_tensor` 应用一个全连接层。快捷方法：你可以使用来自 [TensorFlow Layers](https://www.tensorflow.org/api_docs/python/tf/layers) 或 [TensorFlow Layers (contrib)](https://www.tensorflow.org/api_guides/python/contrib.layers) 包中的函数来实现该功能。不过你也可以只使用 TensorFlow 包中的函数来挑战自己。"
   ]
  },
  {
   "cell_type": "code",
   "execution_count": 10,
   "metadata": {
    "collapsed": false
   },
   "outputs": [
    {
     "name": "stdout",
     "output_type": "stream",
     "text": [
      "Tests Passed\n"
     ]
    }
   ],
   "source": [
    "def fully_conn(x_tensor, num_outputs):\n",
    "    \"\"\"\n",
    "    Apply a fully connected layer to x_tensor using weight and bias\n",
    "    : x_tensor: A 2-D tensor where the first dimension is batch size.\n",
    "    : num_outputs: The number of output that the new tensor should be.\n",
    "    : return: A 2-D tensor where the second dimension is num_outputs.\n",
    "    \"\"\"\n",
    "    # TODO: Implement Function\n",
    "    fc_layer = tf.contrib.layers.fully_connected(x_tensor, num_outputs, activation_fn=tf.nn.relu)\n",
    "    return fc_layer\n",
    "\n",
    "\n",
    "\"\"\"\n",
    "DON'T MODIFY ANYTHING IN THIS CELL THAT IS BELOW THIS LINE\n",
    "\"\"\"\n",
    "tests.test_fully_conn(fully_conn)"
   ]
  },
  {
   "cell_type": "markdown",
   "metadata": {},
   "source": [
    "### Output Layer\n",
    "Implement the `output` function to apply a fully connected layer to `x_tensor` with the shape (*Batch Size*, *num_outputs*). Shortcut option: you can use classes from the [TensorFlow Layers](https://www.tensorflow.org/api_docs/python/tf/layers) or [TensorFlow Layers (contrib)](https://www.tensorflow.org/api_guides/python/contrib.layers) packages for this layer. For more of a challenge, only use other TensorFlow packages.\n",
    "\n",
    "**Note:** Activation, softmax, or cross entropy should **not** be applied to this."
   ]
  },
  {
   "cell_type": "markdown",
   "metadata": {},
   "source": [
    "### 输出层\n",
    "\n",
    "修改 `output` 函数，来对形如 `(batch Size, num_outputs)` 的输入 `x_tensor` 应用一个全连接层。快捷方法：你可以使用来自 [TensorFlow Layers](https://www.tensorflow.org/api_docs/python/tf/layers) 或 [TensorFlow Layers (contrib)](https://www.tensorflow.org/api_guides/python/contrib.layers) 包中的函数来实现该功能。不过你也可以只使用 TensorFlow 包中的函数来挑战自己。\n",
    "\n",
    "**注意：**\n",
    "激活函数、softmax 或者交叉熵（corss entropy）**不**应被加入到该层。"
   ]
  },
  {
   "cell_type": "code",
   "execution_count": 11,
   "metadata": {
    "collapsed": false
   },
   "outputs": [
    {
     "name": "stdout",
     "output_type": "stream",
     "text": [
      "Tests Passed\n"
     ]
    }
   ],
   "source": [
    "def output(x_tensor, num_outputs):\n",
    "    \"\"\"\n",
    "    Apply a output layer to x_tensor using weight and bias\n",
    "    : x_tensor: A 2-D tensor where the first dimension is batch size.\n",
    "    : num_outputs: The number of output that the new tensor should be.\n",
    "    : return: A 2-D tensor where the second dimension is num_outputs.\n",
    "    \"\"\"\n",
    "    # TODO: Implement Function\n",
    "    fc = tf.contrib.layers.fully_connected(x_tensor, num_outputs, activation_fn=None) # 激活函数设为None\n",
    "    return fc\n",
    "\n",
    "\n",
    "\"\"\"\n",
    "DON'T MODIFY ANYTHING IN THIS CELL THAT IS BELOW THIS LINE\n",
    "\"\"\"\n",
    "tests.test_output(output)"
   ]
  },
  {
   "cell_type": "markdown",
   "metadata": {},
   "source": [
    "### Create Convolutional Model\n",
    "Implement the function `conv_net` to create a convolutional neural network model. The function takes in a batch of images, `x`, and outputs logits.  Use the layers you created above to create this model:\n",
    "\n",
    "* Apply 1, 2, or 3 Convolution and Max Pool layers\n",
    "* Apply a Flatten Layer\n",
    "* Apply 1, 2, or 3 Fully Connected Layers\n",
    "* Apply an Output Layer\n",
    "* Return the output\n",
    "* Apply [TensorFlow's Dropout](https://www.tensorflow.org/api_docs/python/tf/nn/dropout) to one or more layers in the model using `keep_prob`. "
   ]
  },
  {
   "cell_type": "markdown",
   "metadata": {},
   "source": [
    "### 创建卷积模型\n",
    "\n",
    "修改 `conv_net` 函数，使之能够生成一个卷积神经网络模型。该函数的输入为一批图像数据 `x`，输出为 logits。在函数中，使用上方你修改的创建各种层的函数来创建该模型：\n",
    "\n",
    "* 使用 1 到 3 个卷积-最大池化层\n",
    "* 使用一个展开层\n",
    "* 使用 1 到 3 个全连接层\n",
    "* 使用一个输出层\n",
    "* 返回呼出结果\n",
    "* 在一个或多个层上使用 [TensorFlow's Dropout](https://www.tensorflow.org/api_docs/python/tf/nn/dropout)，对应的保留概率为 `keep_prob`. "
   ]
  },
  {
   "cell_type": "code",
   "execution_count": 34,
   "metadata": {
    "collapsed": false
   },
   "outputs": [
    {
     "name": "stdout",
     "output_type": "stream",
     "text": [
      "Neural Network Built!\n"
     ]
    }
   ],
   "source": [
    "def conv_net(x, keep_prob):\n",
    "    \"\"\"\n",
    "    Create a convolutional neural network model\n",
    "    : x: Placeholder tensor that holds image data.\n",
    "    : keep_prob: Placeholder tensor that hold dropout keep probability.\n",
    "    : return: Tensor that represents logits\n",
    "    \"\"\"\n",
    "    # TODO: Apply 1, 2, or 3 Convolution and Max Pool layers\n",
    "    #    Play around with different number of outputs, kernel size and stride\n",
    "    # Function Definition from Above:\n",
    "    #    conv2d_maxpool(x_tensor, conv_num_outputs, conv_ksize, conv_strides, pool_ksize, pool_strides)\n",
    "    conv1 = conv2d_maxpool(x, 32, (3,3), (1,1), (2,2), (2,2))\n",
    "    conv2 = conv2d_maxpool(conv1, 64, (3,3), (1,1), (2,2), (2,2))\n",
    "    conv3 = conv2d_maxpool(conv2, 128, (3,3), (1,1), (2,2), (2,2))\n",
    "    \n",
    "    # TODO: Apply a Flatten Layer\n",
    "    # Function Definition from Above:\n",
    "    #   flatten(x_tensor)\n",
    "    x_flatten = flatten(conv3)\n",
    "\n",
    "    # TODO: Apply 1, 2, or 3 Fully Connected Layers\n",
    "    #    Play around with different number of outputs\n",
    "    # Function Definition from Above:\n",
    "    #   fully_conn(x_tensor, num_outputs)\n",
    "    ful_conn1 =  fully_conn(x_flatten, 512)\n",
    "    drop_out = tf.nn.dropout(ful_conn1, keep_prob)\n",
    "    ful_conn2 =  fully_conn(drop_out, 256)\n",
    "    drop_out = tf.nn.dropout(ful_conn2, keep_prob)\n",
    "    ful_conn3 =  fully_conn(drop_out, 128)\n",
    "    # drop_out = tf.nn.dropout(ful_conn3, keep_prob)\n",
    "\n",
    "    \n",
    "    # TODO: Apply an Output Layer\n",
    "    #    Set this to the number of classes\n",
    "    # Function Definition from Above:\n",
    "    #   output(x_tensor, num_outputs)\n",
    "    x_output = output(ful_conn3, 10)\n",
    "    \n",
    "    # TODO: return output\n",
    "    return x_output\n",
    "\n",
    "\n",
    "\"\"\"\n",
    "DON'T MODIFY ANYTHING IN THIS CELL THAT IS BELOW THIS LINE\n",
    "\"\"\"\n",
    "\n",
    "##############################\n",
    "## Build the Neural Network ##\n",
    "##############################\n",
    "\n",
    "# Remove previous weights, bias, inputs, etc..\n",
    "tf.reset_default_graph()\n",
    "\n",
    "# Inputs\n",
    "x = neural_net_image_input((32, 32, 3))\n",
    "y = neural_net_label_input(10)\n",
    "keep_prob = neural_net_keep_prob_input()\n",
    "\n",
    "# Model\n",
    "logits = conv_net(x, keep_prob)\n",
    "\n",
    "# Name logits Tensor, so that is can be loaded from disk after training\n",
    "logits = tf.identity(logits, name='logits')\n",
    "\n",
    "# Loss and Optimizer\n",
    "cost = tf.reduce_mean(tf.nn.softmax_cross_entropy_with_logits(logits=logits, labels=y))\n",
    "optimizer = tf.train.AdamOptimizer().minimize(cost)\n",
    "\n",
    "# Accuracy\n",
    "correct_pred = tf.equal(tf.argmax(logits, 1), tf.argmax(y, 1))\n",
    "accuracy = tf.reduce_mean(tf.cast(correct_pred, tf.float32), name='accuracy')\n",
    "\n",
    "tests.test_conv_net(conv_net)"
   ]
  },
  {
   "cell_type": "markdown",
   "metadata": {},
   "source": [
    "## Train the Neural Network\n",
    "### Single Optimization\n",
    "Implement the function `train_neural_network` to do a single optimization.  The optimization should use `optimizer` to optimize in `session` with a `feed_dict` of the following:\n",
    "* `x` for image input\n",
    "* `y` for labels\n",
    "* `keep_prob` for keep probability for dropout\n",
    "\n",
    "This function will be called for each batch, so `tf.global_variables_initializer()` has already been called.\n",
    "\n",
    "Note: Nothing needs to be returned. This function is only optimizing the neural network."
   ]
  },
  {
   "cell_type": "markdown",
   "metadata": {},
   "source": [
    "## 训练该神经网络\n",
    "\n",
    "### 最优化\n",
    "\n",
    "修改 `train_neural_network` 函数以执行单次最优化。该最优化过程应在一个 `session` 中使用 `optimizer` 来进行该过程，它的 `feed_dict` 包括：\n",
    "* `x` 代表输入图像\n",
    "* `y` 代表*标签*\n",
    "* `keep_prob` 为 Dropout 过程中的保留概率\n",
    "\n",
    "对每批数据该函数都会被调用，因而 `tf.global_variables_initializer()` 已经被调用过。\n",
    "\n",
    "注意：该函数并不要返回某个值，它只对神经网络进行最优化。"
   ]
  },
  {
   "cell_type": "code",
   "execution_count": 13,
   "metadata": {
    "collapsed": false
   },
   "outputs": [
    {
     "name": "stdout",
     "output_type": "stream",
     "text": [
      "Tests Passed\n"
     ]
    }
   ],
   "source": [
    "def train_neural_network(session, optimizer, keep_probability, feature_batch, label_batch):\n",
    "    \"\"\"\n",
    "    Optimize the session on a batch of images and labels\n",
    "    : session: Current TensorFlow session\n",
    "    : optimizer: TensorFlow optimizer function\n",
    "    : keep_probability: keep probability\n",
    "    : feature_batch: Batch of Numpy image data\n",
    "    : label_batch: Batch of Numpy label data\n",
    "    \"\"\"\n",
    "    # TODO: Implement Function\n",
    "    session.run(optimizer, feed_dict={x:feature_batch, y:label_batch, keep_prob:keep_probability})\n",
    "\n",
    "\n",
    "\"\"\"\n",
    "DON'T MODIFY ANYTHING IN THIS CELL THAT IS BELOW THIS LINE\n",
    "\"\"\"\n",
    "tests.test_train_nn(train_neural_network)"
   ]
  },
  {
   "cell_type": "markdown",
   "metadata": {},
   "source": [
    "### Show Stats\n",
    "Implement the function `print_stats` to print loss and validation accuracy.  Use the global variables `valid_features` and `valid_labels` to calculate validation accuracy.  Use a keep probability of `1.0` to calculate the loss and validation accuracy."
   ]
  },
  {
   "cell_type": "markdown",
   "metadata": {},
   "source": [
    "### 显示状态\n",
    "\n",
    "修改 `print_stats` 函数来打印 loss 值及验证准确率。 使用全局的变量 `valid_features` 及 `valid_labels` 来计算验证准确率。 设定保留概率为 1.0 来计算 loss 值及验证准确率。"
   ]
  },
  {
   "cell_type": "code",
   "execution_count": 14,
   "metadata": {
    "collapsed": false
   },
   "outputs": [],
   "source": [
    "def print_stats(session, feature_batch, label_batch, cost, accuracy):\n",
    "    \"\"\"\n",
    "    Print information about loss and validation accuracy\n",
    "    : session: Current TensorFlow session\n",
    "    : feature_batch: Batch of Numpy image data\n",
    "    : label_batch: Batch of Numpy label data\n",
    "    : cost: TensorFlow cost function\n",
    "    : accuracy: TensorFlow accuracy function\n",
    "    \"\"\"\n",
    "    # TODO: Implement Function\n",
    "    loss = session.run(cost, feed_dict={x: feature_batch, \n",
    "                                        y: label_batch, \n",
    "                                        keep_prob: 1.})\n",
    "    \n",
    "    valid_acc = sess.run(accuracy, feed_dict={x: valid_features,\n",
    "                                              y: valid_labels,\n",
    "                                              keep_prob: 1.})\n",
    "    \n",
    "    print('loss: {}, Testing Accuracy: {}'.format(loss, valid_acc))\n",
    "    "
   ]
  },
  {
   "cell_type": "markdown",
   "metadata": {},
   "source": [
    "### Hyperparameters\n",
    "Tune the following parameters:\n",
    "* Set `epochs` to the number of iterations until the network stops learning or start overfitting\n",
    "* Set `batch_size` to the highest number that your machine has memory for.  Most people set them to common sizes of memory:\n",
    " * 64\n",
    " * 128\n",
    " * 256\n",
    " * ...\n",
    "* Set `keep_probability` to the probability of keeping a node using dropout"
   ]
  },
  {
   "cell_type": "markdown",
   "metadata": {},
   "source": [
    "### 超参数调节\n",
    "\n",
    "你需要调节如下的参数：\n",
    "* 设定 `epoches` 为模型停止学习或开始过拟合时模型的迭代次数。\n",
    "* 设定 `batch_size` 为你内存能支持的最大值。一般我们设定该值为：\n",
    " * 64\n",
    " * 128\n",
    " * 256\n",
    " * ...\n",
    "* 设定 `keep_probability` 为在 dropout 过程中保留一个节点的概率。"
   ]
  },
  {
   "cell_type": "code",
   "execution_count": 35,
   "metadata": {
    "collapsed": true
   },
   "outputs": [],
   "source": [
    "# TODO: Tune Parameters\n",
    "epochs = 35\n",
    "batch_size = 128\n",
    "keep_probability = 0.75"
   ]
  },
  {
   "cell_type": "markdown",
   "metadata": {},
   "source": [
    "### Train on a Single CIFAR-10 Batch\n",
    "Instead of training the neural network on all the CIFAR-10 batches of data, let's use a single batch. This should save time while you iterate on the model to get a better accuracy.  Once the final validation accuracy is 50% or greater, run the model on all the data in the next section."
   ]
  },
  {
   "cell_type": "markdown",
   "metadata": {},
   "source": [
    "### 对单批 CIFAR-10 数据进行训练\n",
    "\n",
    "相比于在所有 CIFAR-10 数据上训练神经网络，我们首先使用一批数据进行训练。这会帮助你在调节模型提高精度的过程中节省时间。当最终的验证精度超过 50% 之后，你就可以前往下一节在所有数据上运行该模型了。"
   ]
  },
  {
   "cell_type": "code",
   "execution_count": 36,
   "metadata": {
    "collapsed": false
   },
   "outputs": [
    {
     "name": "stdout",
     "output_type": "stream",
     "text": [
      "Checking the Training on a Single Batch...\n",
      "Epoch  1, CIFAR-10 Batch 1:  loss: 2.2119641304016113, Testing Accuracy: 0.2295999974012375\n",
      "Epoch  2, CIFAR-10 Batch 1:  loss: 2.111309051513672, Testing Accuracy: 0.2825999855995178\n",
      "Epoch  3, CIFAR-10 Batch 1:  loss: 2.0675954818725586, Testing Accuracy: 0.3089999854564667\n",
      "Epoch  4, CIFAR-10 Batch 1:  loss: 2.0179054737091064, Testing Accuracy: 0.3248000144958496\n",
      "Epoch  5, CIFAR-10 Batch 1:  loss: 1.7970869541168213, Testing Accuracy: 0.37299999594688416\n",
      "Epoch  6, CIFAR-10 Batch 1:  loss: 1.6859744787216187, Testing Accuracy: 0.40880000591278076\n",
      "Epoch  7, CIFAR-10 Batch 1:  loss: 1.634464979171753, Testing Accuracy: 0.4350000023841858\n",
      "Epoch  8, CIFAR-10 Batch 1:  loss: 1.519120216369629, Testing Accuracy: 0.4426000118255615\n",
      "Epoch  9, CIFAR-10 Batch 1:  loss: 1.4444005489349365, Testing Accuracy: 0.4551999866962433\n",
      "Epoch 10, CIFAR-10 Batch 1:  loss: 1.3764740228652954, Testing Accuracy: 0.4596000015735626\n",
      "Epoch 11, CIFAR-10 Batch 1:  loss: 1.2809243202209473, Testing Accuracy: 0.47360000014305115\n",
      "Epoch 12, CIFAR-10 Batch 1:  loss: 1.2268016338348389, Testing Accuracy: 0.48080000281333923\n",
      "Epoch 13, CIFAR-10 Batch 1:  loss: 1.1162419319152832, Testing Accuracy: 0.5034000277519226\n",
      "Epoch 14, CIFAR-10 Batch 1:  loss: 1.0047266483306885, Testing Accuracy: 0.5044000148773193\n",
      "Epoch 15, CIFAR-10 Batch 1:  loss: 0.926893413066864, Testing Accuracy: 0.5034000277519226\n",
      "Epoch 16, CIFAR-10 Batch 1:  loss: 0.7974361181259155, Testing Accuracy: 0.5131999850273132\n",
      "Epoch 17, CIFAR-10 Batch 1:  loss: 0.7638942003250122, Testing Accuracy: 0.5127999782562256\n",
      "Epoch 18, CIFAR-10 Batch 1:  loss: 0.7156534194946289, Testing Accuracy: 0.5023999810218811\n",
      "Epoch 19, CIFAR-10 Batch 1:  loss: 0.6073673963546753, Testing Accuracy: 0.5220000147819519\n",
      "Epoch 20, CIFAR-10 Batch 1:  loss: 0.5810114145278931, Testing Accuracy: 0.521399974822998\n",
      "Epoch 21, CIFAR-10 Batch 1:  loss: 0.5377033948898315, Testing Accuracy: 0.5234000086784363\n",
      "Epoch 22, CIFAR-10 Batch 1:  loss: 0.4786151051521301, Testing Accuracy: 0.5306000113487244\n",
      "Epoch 23, CIFAR-10 Batch 1:  loss: 0.421578586101532, Testing Accuracy: 0.5311999917030334\n",
      "Epoch 24, CIFAR-10 Batch 1:  loss: 0.34547457098960876, Testing Accuracy: 0.5299999713897705\n",
      "Epoch 25, CIFAR-10 Batch 1:  loss: 0.30039718747138977, Testing Accuracy: 0.5428000092506409\n",
      "Epoch 26, CIFAR-10 Batch 1:  loss: 0.2840844690799713, Testing Accuracy: 0.5410000085830688\n",
      "Epoch 27, CIFAR-10 Batch 1:  loss: 0.19281601905822754, Testing Accuracy: 0.5404000282287598\n",
      "Epoch 28, CIFAR-10 Batch 1:  loss: 0.19033893942832947, Testing Accuracy: 0.5242000222206116\n",
      "Epoch 29, CIFAR-10 Batch 1:  loss: 0.18604759871959686, Testing Accuracy: 0.5199999809265137\n",
      "Epoch 30, CIFAR-10 Batch 1:  loss: 0.17209608852863312, Testing Accuracy: 0.5303999781608582\n",
      "Epoch 31, CIFAR-10 Batch 1:  loss: 0.1505517065525055, Testing Accuracy: 0.5270000100135803\n",
      "Epoch 32, CIFAR-10 Batch 1:  loss: 0.14140145480632782, Testing Accuracy: 0.5333999991416931\n",
      "Epoch 33, CIFAR-10 Batch 1:  loss: 0.10777826607227325, Testing Accuracy: 0.5347999930381775\n",
      "Epoch 34, CIFAR-10 Batch 1:  loss: 0.09995676577091217, Testing Accuracy: 0.5616000294685364\n",
      "Epoch 35, CIFAR-10 Batch 1:  loss: 0.08452145755290985, Testing Accuracy: 0.5514000058174133\n"
     ]
    }
   ],
   "source": [
    "\"\"\"\n",
    "DON'T MODIFY ANYTHING IN THIS CELL\n",
    "\"\"\"\n",
    "print('Checking the Training on a Single Batch...')\n",
    "with tf.Session() as sess:\n",
    "    # Initializing the variables\n",
    "    sess.run(tf.global_variables_initializer())\n",
    "    \n",
    "    # Training cycle\n",
    "    for epoch in range(epochs):\n",
    "        batch_i = 1\n",
    "        for batch_features, batch_labels in helper.load_preprocess_training_batch(batch_i, batch_size):\n",
    "            train_neural_network(sess, optimizer, keep_probability, batch_features, batch_labels)\n",
    "        print('Epoch {:>2}, CIFAR-10 Batch {}:  '.format(epoch + 1, batch_i), end='')\n",
    "        print_stats(sess, batch_features, batch_labels, cost, accuracy)"
   ]
  },
  {
   "cell_type": "markdown",
   "metadata": {},
   "source": [
    "### Fully Train the Model\n",
    "Now that you got a good accuracy with a single CIFAR-10 batch, try it with all five batches."
   ]
  },
  {
   "cell_type": "markdown",
   "metadata": {},
   "source": [
    "### 完全训练该模型\n",
    "\n",
    "因为你在单批 CIFAR-10 数据上已经得到了一个不错的准确率了，那你可以尝试在所有五批数据上进行训练。"
   ]
  },
  {
   "cell_type": "code",
   "execution_count": 37,
   "metadata": {
    "collapsed": false
   },
   "outputs": [
    {
     "name": "stdout",
     "output_type": "stream",
     "text": [
      "Training...\n",
      "Epoch  1, CIFAR-10 Batch 1:  loss: 2.1516103744506836, Testing Accuracy: 0.24580000340938568\n",
      "Epoch  1, CIFAR-10 Batch 2:  loss: 2.0732734203338623, Testing Accuracy: 0.2858000099658966\n",
      "Epoch  1, CIFAR-10 Batch 3:  loss: 1.6530433893203735, Testing Accuracy: 0.30399999022483826\n",
      "Epoch  1, CIFAR-10 Batch 4:  loss: 1.6544790267944336, Testing Accuracy: 0.3610000014305115\n",
      "Epoch  1, CIFAR-10 Batch 5:  loss: 1.8113195896148682, Testing Accuracy: 0.39980000257492065\n",
      "Epoch  2, CIFAR-10 Batch 1:  loss: 1.7342116832733154, Testing Accuracy: 0.430400013923645\n",
      "Epoch  2, CIFAR-10 Batch 2:  loss: 1.564084768295288, Testing Accuracy: 0.4415999948978424\n",
      "Epoch  2, CIFAR-10 Batch 3:  loss: 1.2216848134994507, Testing Accuracy: 0.44999998807907104\n",
      "Epoch  2, CIFAR-10 Batch 4:  loss: 1.3951246738433838, Testing Accuracy: 0.4521999955177307\n",
      "Epoch  2, CIFAR-10 Batch 5:  loss: 1.511845350265503, Testing Accuracy: 0.4821999967098236\n",
      "Epoch  3, CIFAR-10 Batch 1:  loss: 1.4230067729949951, Testing Accuracy: 0.4950000047683716\n",
      "Epoch  3, CIFAR-10 Batch 2:  loss: 1.2898635864257812, Testing Accuracy: 0.5120000243186951\n",
      "Epoch  3, CIFAR-10 Batch 3:  loss: 1.0424950122833252, Testing Accuracy: 0.5054000020027161\n",
      "Epoch  3, CIFAR-10 Batch 4:  loss: 1.1458253860473633, Testing Accuracy: 0.51419997215271\n",
      "Epoch  3, CIFAR-10 Batch 5:  loss: 1.164529800415039, Testing Accuracy: 0.532800018787384\n",
      "Epoch  4, CIFAR-10 Batch 1:  loss: 1.2243057489395142, Testing Accuracy: 0.5288000106811523\n",
      "Epoch  4, CIFAR-10 Batch 2:  loss: 1.0524721145629883, Testing Accuracy: 0.5705999732017517\n",
      "Epoch  4, CIFAR-10 Batch 3:  loss: 1.0047740936279297, Testing Accuracy: 0.5565999746322632\n",
      "Epoch  4, CIFAR-10 Batch 4:  loss: 0.9960601925849915, Testing Accuracy: 0.5583999752998352\n",
      "Epoch  4, CIFAR-10 Batch 5:  loss: 1.0231680870056152, Testing Accuracy: 0.5794000029563904\n",
      "Epoch  5, CIFAR-10 Batch 1:  loss: 1.0889127254486084, Testing Accuracy: 0.5827999711036682\n",
      "Epoch  5, CIFAR-10 Batch 2:  loss: 0.8972356915473938, Testing Accuracy: 0.5817999839782715\n",
      "Epoch  5, CIFAR-10 Batch 3:  loss: 0.9481395483016968, Testing Accuracy: 0.5874000191688538\n",
      "Epoch  5, CIFAR-10 Batch 4:  loss: 0.8615872263908386, Testing Accuracy: 0.6122000217437744\n",
      "Epoch  5, CIFAR-10 Batch 5:  loss: 0.8827630877494812, Testing Accuracy: 0.6111999750137329\n",
      "Epoch  6, CIFAR-10 Batch 1:  loss: 0.9107871055603027, Testing Accuracy: 0.6065999865531921\n",
      "Epoch  6, CIFAR-10 Batch 2:  loss: 0.7797135710716248, Testing Accuracy: 0.6115999817848206\n",
      "Epoch  6, CIFAR-10 Batch 3:  loss: 0.7327211499214172, Testing Accuracy: 0.6341999769210815\n",
      "Epoch  6, CIFAR-10 Batch 4:  loss: 0.7614568471908569, Testing Accuracy: 0.6284000277519226\n",
      "Epoch  6, CIFAR-10 Batch 5:  loss: 0.7953554391860962, Testing Accuracy: 0.6259999871253967\n",
      "Epoch  7, CIFAR-10 Batch 1:  loss: 0.762362003326416, Testing Accuracy: 0.616599977016449\n",
      "Epoch  7, CIFAR-10 Batch 2:  loss: 0.6932753324508667, Testing Accuracy: 0.6380000114440918\n",
      "Epoch  7, CIFAR-10 Batch 3:  loss: 0.5986219644546509, Testing Accuracy: 0.644599974155426\n",
      "Epoch  7, CIFAR-10 Batch 4:  loss: 0.6985191106796265, Testing Accuracy: 0.6480000019073486\n",
      "Epoch  7, CIFAR-10 Batch 5:  loss: 0.6050492525100708, Testing Accuracy: 0.646399974822998\n",
      "Epoch  8, CIFAR-10 Batch 1:  loss: 0.6362814903259277, Testing Accuracy: 0.6525999903678894\n",
      "Epoch  8, CIFAR-10 Batch 2:  loss: 0.6058977842330933, Testing Accuracy: 0.6416000127792358\n",
      "Epoch  8, CIFAR-10 Batch 3:  loss: 0.44174838066101074, Testing Accuracy: 0.6801999807357788\n",
      "Epoch  8, CIFAR-10 Batch 4:  loss: 0.6017850041389465, Testing Accuracy: 0.6692000031471252\n",
      "Epoch  8, CIFAR-10 Batch 5:  loss: 0.4922679364681244, Testing Accuracy: 0.6718000173568726\n",
      "Epoch  9, CIFAR-10 Batch 1:  loss: 0.5244649052619934, Testing Accuracy: 0.6589999794960022\n",
      "Epoch  9, CIFAR-10 Batch 2:  loss: 0.5023482441902161, Testing Accuracy: 0.6502000093460083\n",
      "Epoch  9, CIFAR-10 Batch 3:  loss: 0.4067181944847107, Testing Accuracy: 0.6818000078201294\n",
      "Epoch  9, CIFAR-10 Batch 4:  loss: 0.5261170864105225, Testing Accuracy: 0.6668000221252441\n",
      "Epoch  9, CIFAR-10 Batch 5:  loss: 0.37638360261917114, Testing Accuracy: 0.6747999787330627\n",
      "Epoch 10, CIFAR-10 Batch 1:  loss: 0.4198633134365082, Testing Accuracy: 0.6656000018119812\n",
      "Epoch 10, CIFAR-10 Batch 2:  loss: 0.4935057759284973, Testing Accuracy: 0.649399995803833\n",
      "Epoch 10, CIFAR-10 Batch 3:  loss: 0.35492855310440063, Testing Accuracy: 0.6715999841690063\n",
      "Epoch 10, CIFAR-10 Batch 4:  loss: 0.427086740732193, Testing Accuracy: 0.6808000206947327\n",
      "Epoch 10, CIFAR-10 Batch 5:  loss: 0.3049927055835724, Testing Accuracy: 0.6808000206947327\n",
      "Epoch 11, CIFAR-10 Batch 1:  loss: 0.38452523946762085, Testing Accuracy: 0.676800012588501\n",
      "Epoch 11, CIFAR-10 Batch 2:  loss: 0.4240889549255371, Testing Accuracy: 0.6696000099182129\n",
      "Epoch 11, CIFAR-10 Batch 3:  loss: 0.32306021451950073, Testing Accuracy: 0.6764000058174133\n",
      "Epoch 11, CIFAR-10 Batch 4:  loss: 0.41447409987449646, Testing Accuracy: 0.6787999868392944\n",
      "Epoch 11, CIFAR-10 Batch 5:  loss: 0.30015048384666443, Testing Accuracy: 0.6814000010490417\n",
      "Epoch 12, CIFAR-10 Batch 1:  loss: 0.3000134825706482, Testing Accuracy: 0.6984000205993652\n",
      "Epoch 12, CIFAR-10 Batch 2:  loss: 0.4165784418582916, Testing Accuracy: 0.6826000213623047\n",
      "Epoch 12, CIFAR-10 Batch 3:  loss: 0.22065424919128418, Testing Accuracy: 0.6840000152587891\n",
      "Epoch 12, CIFAR-10 Batch 4:  loss: 0.29763731360435486, Testing Accuracy: 0.6944000124931335\n",
      "Epoch 12, CIFAR-10 Batch 5:  loss: 0.2665061056613922, Testing Accuracy: 0.6919999718666077\n",
      "Epoch 13, CIFAR-10 Batch 1:  loss: 0.35473722219467163, Testing Accuracy: 0.6904000043869019\n",
      "Epoch 13, CIFAR-10 Batch 2:  loss: 0.37046051025390625, Testing Accuracy: 0.6832000017166138\n",
      "Epoch 13, CIFAR-10 Batch 3:  loss: 0.22156992554664612, Testing Accuracy: 0.6848000288009644\n",
      "Epoch 13, CIFAR-10 Batch 4:  loss: 0.27183762192726135, Testing Accuracy: 0.6917999982833862\n",
      "Epoch 13, CIFAR-10 Batch 5:  loss: 0.20719560980796814, Testing Accuracy: 0.6862000226974487\n",
      "Epoch 14, CIFAR-10 Batch 1:  loss: 0.2848348617553711, Testing Accuracy: 0.6977999806404114\n",
      "Epoch 14, CIFAR-10 Batch 2:  loss: 0.2859508693218231, Testing Accuracy: 0.6859999895095825\n",
      "Epoch 14, CIFAR-10 Batch 3:  loss: 0.20426301658153534, Testing Accuracy: 0.6761999726295471\n",
      "Epoch 14, CIFAR-10 Batch 4:  loss: 0.3375077247619629, Testing Accuracy: 0.6633999943733215\n",
      "Epoch 14, CIFAR-10 Batch 5:  loss: 0.21780343353748322, Testing Accuracy: 0.6866000294685364\n",
      "Epoch 15, CIFAR-10 Batch 1:  loss: 0.24224212765693665, Testing Accuracy: 0.7002000212669373\n",
      "Epoch 15, CIFAR-10 Batch 2:  loss: 0.26530885696411133, Testing Accuracy: 0.6909999847412109\n",
      "Epoch 15, CIFAR-10 Batch 3:  loss: 0.1556895673274994, Testing Accuracy: 0.6909999847412109\n",
      "Epoch 15, CIFAR-10 Batch 4:  loss: 0.2950761318206787, Testing Accuracy: 0.6883999705314636\n",
      "Epoch 15, CIFAR-10 Batch 5:  loss: 0.17664578557014465, Testing Accuracy: 0.6863999962806702\n",
      "Epoch 16, CIFAR-10 Batch 1:  loss: 0.24118685722351074, Testing Accuracy: 0.7016000151634216\n",
      "Epoch 16, CIFAR-10 Batch 2:  loss: 0.218016117811203, Testing Accuracy: 0.6873999834060669\n",
      "Epoch 16, CIFAR-10 Batch 3:  loss: 0.12167496979236603, Testing Accuracy: 0.7059999704360962\n",
      "Epoch 16, CIFAR-10 Batch 4:  loss: 0.28780925273895264, Testing Accuracy: 0.6776000261306763\n",
      "Epoch 16, CIFAR-10 Batch 5:  loss: 0.1393243372440338, Testing Accuracy: 0.6855999827384949\n",
      "Epoch 17, CIFAR-10 Batch 1:  loss: 0.12133989483118057, Testing Accuracy: 0.699999988079071\n",
      "Epoch 17, CIFAR-10 Batch 2:  loss: 0.17895886301994324, Testing Accuracy: 0.7008000016212463\n",
      "Epoch 17, CIFAR-10 Batch 3:  loss: 0.10469410568475723, Testing Accuracy: 0.7070000171661377\n",
      "Epoch 17, CIFAR-10 Batch 4:  loss: 0.22072894871234894, Testing Accuracy: 0.6922000050544739\n",
      "Epoch 17, CIFAR-10 Batch 5:  loss: 0.17340849339962006, Testing Accuracy: 0.6741999983787537\n",
      "Epoch 18, CIFAR-10 Batch 1:  loss: 0.14473600685596466, Testing Accuracy: 0.7034000158309937\n",
      "Epoch 18, CIFAR-10 Batch 2:  loss: 0.12465181201696396, Testing Accuracy: 0.6953999996185303\n",
      "Epoch 18, CIFAR-10 Batch 3:  loss: 0.07519316673278809, Testing Accuracy: 0.7107999920845032\n",
      "Epoch 18, CIFAR-10 Batch 4:  loss: 0.18682274222373962, Testing Accuracy: 0.6899999976158142\n",
      "Epoch 18, CIFAR-10 Batch 5:  loss: 0.11547861993312836, Testing Accuracy: 0.6883999705314636\n",
      "Epoch 19, CIFAR-10 Batch 1:  loss: 0.12032867968082428, Testing Accuracy: 0.704200029373169\n",
      "Epoch 19, CIFAR-10 Batch 2:  loss: 0.13043521344661713, Testing Accuracy: 0.6980000138282776\n",
      "Epoch 19, CIFAR-10 Batch 3:  loss: 0.08057761937379837, Testing Accuracy: 0.7088000178337097\n",
      "Epoch 19, CIFAR-10 Batch 4:  loss: 0.1507495790719986, Testing Accuracy: 0.698199987411499\n",
      "Epoch 19, CIFAR-10 Batch 5:  loss: 0.10434074699878693, Testing Accuracy: 0.6958000063896179\n",
      "Epoch 20, CIFAR-10 Batch 1:  loss: 0.10934524238109589, Testing Accuracy: 0.7035999894142151\n",
      "Epoch 20, CIFAR-10 Batch 2:  loss: 0.11650415509939194, Testing Accuracy: 0.7002000212669373\n",
      "Epoch 20, CIFAR-10 Batch 3:  loss: 0.09365222603082657, Testing Accuracy: 0.6901999711990356\n",
      "Epoch 20, CIFAR-10 Batch 4:  loss: 0.1311025470495224, Testing Accuracy: 0.6973999738693237\n",
      "Epoch 20, CIFAR-10 Batch 5:  loss: 0.0707072764635086, Testing Accuracy: 0.7080000042915344\n",
      "Epoch 21, CIFAR-10 Batch 1:  loss: 0.10330255329608917, Testing Accuracy: 0.7039999961853027\n",
      "Epoch 21, CIFAR-10 Batch 2:  loss: 0.12179833650588989, Testing Accuracy: 0.703000009059906\n",
      "Epoch 21, CIFAR-10 Batch 3:  loss: 0.08130092173814774, Testing Accuracy: 0.6967999935150146\n",
      "Epoch 21, CIFAR-10 Batch 4:  loss: 0.08764506876468658, Testing Accuracy: 0.7035999894142151\n",
      "Epoch 21, CIFAR-10 Batch 5:  loss: 0.08976112306118011, Testing Accuracy: 0.7044000029563904\n",
      "Epoch 22, CIFAR-10 Batch 1:  loss: 0.106419637799263, Testing Accuracy: 0.7003999948501587\n",
      "Epoch 22, CIFAR-10 Batch 2:  loss: 0.138403058052063, Testing Accuracy: 0.699400007724762\n",
      "Epoch 22, CIFAR-10 Batch 3:  loss: 0.06568428128957748, Testing Accuracy: 0.6937999725341797\n",
      "Epoch 22, CIFAR-10 Batch 4:  loss: 0.089945949614048, Testing Accuracy: 0.7035999894142151\n",
      "Epoch 22, CIFAR-10 Batch 5:  loss: 0.08563758432865143, Testing Accuracy: 0.694599986076355\n",
      "Epoch 23, CIFAR-10 Batch 1:  loss: 0.08819350600242615, Testing Accuracy: 0.6944000124931335\n",
      "Epoch 23, CIFAR-10 Batch 2:  loss: 0.09815782308578491, Testing Accuracy: 0.6985999941825867\n",
      "Epoch 23, CIFAR-10 Batch 3:  loss: 0.06265811622142792, Testing Accuracy: 0.6977999806404114\n",
      "Epoch 23, CIFAR-10 Batch 4:  loss: 0.05852799490094185, Testing Accuracy: 0.7071999907493591\n",
      "Epoch 23, CIFAR-10 Batch 5:  loss: 0.061071205884218216, Testing Accuracy: 0.7038000226020813\n",
      "Epoch 24, CIFAR-10 Batch 1:  loss: 0.0739893838763237, Testing Accuracy: 0.7049999833106995\n",
      "Epoch 24, CIFAR-10 Batch 2:  loss: 0.07880425453186035, Testing Accuracy: 0.6940000057220459\n",
      "Epoch 24, CIFAR-10 Batch 3:  loss: 0.0621342658996582, Testing Accuracy: 0.6908000111579895\n",
      "Epoch 24, CIFAR-10 Batch 4:  loss: 0.07887545973062515, Testing Accuracy: 0.694599986076355\n",
      "Epoch 24, CIFAR-10 Batch 5:  loss: 0.05465348809957504, Testing Accuracy: 0.7045999765396118\n",
      "Epoch 25, CIFAR-10 Batch 1:  loss: 0.056793153285980225, Testing Accuracy: 0.7017999887466431\n",
      "Epoch 25, CIFAR-10 Batch 2:  loss: 0.06564775854349136, Testing Accuracy: 0.7008000016212463\n",
      "Epoch 25, CIFAR-10 Batch 3:  loss: 0.08632199466228485, Testing Accuracy: 0.6826000213623047\n",
      "Epoch 25, CIFAR-10 Batch 4:  loss: 0.07418458163738251, Testing Accuracy: 0.6935999989509583\n",
      "Epoch 25, CIFAR-10 Batch 5:  loss: 0.0622410848736763, Testing Accuracy: 0.6944000124931335\n",
      "Epoch 26, CIFAR-10 Batch 1:  loss: 0.07067301124334335, Testing Accuracy: 0.6916000247001648\n",
      "Epoch 26, CIFAR-10 Batch 2:  loss: 0.07292746007442474, Testing Accuracy: 0.6952000260353088\n",
      "Epoch 26, CIFAR-10 Batch 3:  loss: 0.059587232768535614, Testing Accuracy: 0.678600013256073\n",
      "Epoch 26, CIFAR-10 Batch 4:  loss: 0.06872333586215973, Testing Accuracy: 0.6973999738693237\n",
      "Epoch 26, CIFAR-10 Batch 5:  loss: 0.05216265842318535, Testing Accuracy: 0.6836000084877014\n",
      "Epoch 27, CIFAR-10 Batch 1:  loss: 0.05469847470521927, Testing Accuracy: 0.6862000226974487\n",
      "Epoch 27, CIFAR-10 Batch 2:  loss: 0.056271184235811234, Testing Accuracy: 0.6935999989509583\n",
      "Epoch 27, CIFAR-10 Batch 3:  loss: 0.059505559504032135, Testing Accuracy: 0.6783999800682068\n",
      "Epoch 27, CIFAR-10 Batch 4:  loss: 0.06301701068878174, Testing Accuracy: 0.7053999900817871\n",
      "Epoch 27, CIFAR-10 Batch 5:  loss: 0.038323551416397095, Testing Accuracy: 0.6977999806404114\n",
      "Epoch 28, CIFAR-10 Batch 1:  loss: 0.057835906744003296, Testing Accuracy: 0.6823999881744385\n",
      "Epoch 28, CIFAR-10 Batch 2:  loss: 0.06437366455793381, Testing Accuracy: 0.6899999976158142\n",
      "Epoch 28, CIFAR-10 Batch 3:  loss: 0.057833265513181686, Testing Accuracy: 0.6740000247955322\n",
      "Epoch 28, CIFAR-10 Batch 4:  loss: 0.051664579659700394, Testing Accuracy: 0.6958000063896179\n",
      "Epoch 28, CIFAR-10 Batch 5:  loss: 0.03811762481927872, Testing Accuracy: 0.6777999997138977\n",
      "Epoch 29, CIFAR-10 Batch 1:  loss: 0.0422576479613781, Testing Accuracy: 0.6923999786376953\n",
      "Epoch 29, CIFAR-10 Batch 2:  loss: 0.04881149157881737, Testing Accuracy: 0.6899999976158142\n",
      "Epoch 29, CIFAR-10 Batch 3:  loss: 0.04630356654524803, Testing Accuracy: 0.6886000037193298\n",
      "Epoch 29, CIFAR-10 Batch 4:  loss: 0.04923659563064575, Testing Accuracy: 0.6967999935150146\n",
      "Epoch 29, CIFAR-10 Batch 5:  loss: 0.04194926470518112, Testing Accuracy: 0.6912000179290771\n",
      "Epoch 30, CIFAR-10 Batch 1:  loss: 0.04680626839399338, Testing Accuracy: 0.698199987411499\n",
      "Epoch 30, CIFAR-10 Batch 2:  loss: 0.05981440097093582, Testing Accuracy: 0.6836000084877014\n",
      "Epoch 30, CIFAR-10 Batch 3:  loss: 0.03946837782859802, Testing Accuracy: 0.6931999921798706\n",
      "Epoch 30, CIFAR-10 Batch 4:  loss: 0.05385143309831619, Testing Accuracy: 0.6851999759674072\n",
      "Epoch 30, CIFAR-10 Batch 5:  loss: 0.04417327046394348, Testing Accuracy: 0.6868000030517578\n",
      "Epoch 31, CIFAR-10 Batch 1:  loss: 0.04843386262655258, Testing Accuracy: 0.6937999725341797\n",
      "Epoch 31, CIFAR-10 Batch 2:  loss: 0.04101753234863281, Testing Accuracy: 0.6890000104904175\n",
      "Epoch 31, CIFAR-10 Batch 3:  loss: 0.03668408840894699, Testing Accuracy: 0.6909999847412109\n",
      "Epoch 31, CIFAR-10 Batch 4:  loss: 0.05713175609707832, Testing Accuracy: 0.6909999847412109\n",
      "Epoch 31, CIFAR-10 Batch 5:  loss: 0.03311914950609207, Testing Accuracy: 0.6880000233650208\n",
      "Epoch 32, CIFAR-10 Batch 1:  loss: 0.06361126899719238, Testing Accuracy: 0.6805999875068665\n",
      "Epoch 32, CIFAR-10 Batch 2:  loss: 0.05299454927444458, Testing Accuracy: 0.6758000254631042\n",
      "Epoch 32, CIFAR-10 Batch 3:  loss: 0.03982920944690704, Testing Accuracy: 0.6990000009536743\n",
      "Epoch 32, CIFAR-10 Batch 4:  loss: 0.03861994668841362, Testing Accuracy: 0.6940000057220459\n",
      "Epoch 32, CIFAR-10 Batch 5:  loss: 0.02495492622256279, Testing Accuracy: 0.6973999738693237\n",
      "Epoch 33, CIFAR-10 Batch 1:  loss: 0.07462058961391449, Testing Accuracy: 0.6934000253677368\n",
      "Epoch 33, CIFAR-10 Batch 2:  loss: 0.05238611251115799, Testing Accuracy: 0.6859999895095825\n",
      "Epoch 33, CIFAR-10 Batch 3:  loss: 0.02910967543721199, Testing Accuracy: 0.6976000070571899\n",
      "Epoch 33, CIFAR-10 Batch 4:  loss: 0.036363594233989716, Testing Accuracy: 0.7075999975204468\n",
      "Epoch 33, CIFAR-10 Batch 5:  loss: 0.032238464802503586, Testing Accuracy: 0.6891999840736389\n",
      "Epoch 34, CIFAR-10 Batch 1:  loss: 0.03932396322488785, Testing Accuracy: 0.6973999738693237\n",
      "Epoch 34, CIFAR-10 Batch 2:  loss: 0.05882730334997177, Testing Accuracy: 0.6905999779701233\n",
      "Epoch 34, CIFAR-10 Batch 3:  loss: 0.048578549176454544, Testing Accuracy: 0.6952000260353088\n",
      "Epoch 34, CIFAR-10 Batch 4:  loss: 0.0327201671898365, Testing Accuracy: 0.6988000273704529\n",
      "Epoch 34, CIFAR-10 Batch 5:  loss: 0.024631639942526817, Testing Accuracy: 0.6937999725341797\n",
      "Epoch 35, CIFAR-10 Batch 1:  loss: 0.024722732603549957, Testing Accuracy: 0.704800009727478\n",
      "Epoch 35, CIFAR-10 Batch 2:  loss: 0.03208136186003685, Testing Accuracy: 0.6919999718666077\n",
      "Epoch 35, CIFAR-10 Batch 3:  loss: 0.037198565900325775, Testing Accuracy: 0.6869999766349792\n",
      "Epoch 35, CIFAR-10 Batch 4:  loss: 0.03544195741415024, Testing Accuracy: 0.7020000219345093\n",
      "Epoch 35, CIFAR-10 Batch 5:  loss: 0.045737702399492264, Testing Accuracy: 0.6990000009536743\n"
     ]
    }
   ],
   "source": [
    "\"\"\"\n",
    "DON'T MODIFY ANYTHING IN THIS CELL\n",
    "\"\"\"\n",
    "save_model_path = './image_classification'\n",
    "\n",
    "print('Training...')\n",
    "with tf.Session() as sess:\n",
    "    # Initializing the variables\n",
    "    sess.run(tf.global_variables_initializer())\n",
    "    \n",
    "    # Training cycle\n",
    "    for epoch in range(epochs):\n",
    "        # Loop over all batches\n",
    "        n_batches = 5\n",
    "        for batch_i in range(1, n_batches + 1):\n",
    "            for batch_features, batch_labels in helper.load_preprocess_training_batch(batch_i, batch_size):\n",
    "                train_neural_network(sess, optimizer, keep_probability, batch_features, batch_labels)\n",
    "            print('Epoch {:>2}, CIFAR-10 Batch {}:  '.format(epoch + 1, batch_i), end='')\n",
    "            print_stats(sess, batch_features, batch_labels, cost, accuracy)\n",
    "            \n",
    "    # Save Model\n",
    "    saver = tf.train.Saver()\n",
    "    save_path = saver.save(sess, save_model_path)"
   ]
  },
  {
   "cell_type": "markdown",
   "metadata": {},
   "source": [
    "# Checkpoint\n",
    "The model has been saved to disk.\n",
    "## Test Model\n",
    "Test your model against the test dataset.  This will be your final accuracy. You should have an accuracy greater than 50%. If you don't, keep tweaking the model architecture and parameters."
   ]
  },
  {
   "cell_type": "markdown",
   "metadata": {},
   "source": [
    "# 检查点\n",
    "\n",
    "该模型已经被存储到你的硬盘中。\n",
    "\n",
    "## 测试模型\n",
    "\n",
    "这部分将在测试数据集上测试你的模型。这边得到的准确率将作为你的最终准确率。你应该得到一个高于 50% 准确率。如果它没有超过 50%，那么你需要继续调整模型架构及参数。"
   ]
  },
  {
   "cell_type": "code",
   "execution_count": 39,
   "metadata": {
    "collapsed": false
   },
   "outputs": [
    {
     "name": "stdout",
     "output_type": "stream",
     "text": [
      "INFO:tensorflow:Restoring parameters from ./image_classification\n",
      "Testing Accuracy: 0.682753164556962\n",
      "\n"
     ]
    },
    {
     "data": {
      "image/png": "[encoded data removed]",
      "text/plain": [
       "<matplotlib.figure.Figure at 0xa4c8940>"
      ]
     },
     "metadata": {
      "image/png": {
       "height": 319,
       "width": 355
      }
     },
     "output_type": "display_data"
    }
   ],
   "source": [
    "\"\"\"\n",
    "DON'T MODIFY ANYTHING IN THIS CELL\n",
    "\"\"\"\n",
    "%matplotlib inline\n",
    "%config InlineBackend.figure_format = 'retina'\n",
    "\n",
    "import tensorflow as tf\n",
    "import pickle\n",
    "import helper\n",
    "import random\n",
    "\n",
    "# Set batch size if not already set\n",
    "try:\n",
    "    if batch_size:\n",
    "        pass\n",
    "except NameError:\n",
    "    batch_size = 64\n",
    "\n",
    "save_model_path = './image_classification'\n",
    "n_samples = 4\n",
    "top_n_predictions = 3\n",
    "\n",
    "def test_model():\n",
    "    \"\"\"\n",
    "    Test the saved model against the test dataset\n",
    "    \"\"\"\n",
    "\n",
    "    test_features, test_labels = pickle.load(open('preprocess_training.p', mode='rb'))\n",
    "    loaded_graph = tf.Graph()\n",
    "\n",
    "    with tf.Session(graph=loaded_graph) as sess:\n",
    "        # Load model\n",
    "        loader = tf.train.import_meta_graph(save_model_path + '.meta')\n",
    "        loader.restore(sess, save_model_path)\n",
    "\n",
    "        # Get Tensors from loaded model\n",
    "        loaded_x = loaded_graph.get_tensor_by_name('x:0')\n",
    "        loaded_y = loaded_graph.get_tensor_by_name('y:0')\n",
    "        loaded_keep_prob = loaded_graph.get_tensor_by_name('keep_prob:0')\n",
    "        loaded_logits = loaded_graph.get_tensor_by_name('logits:0')\n",
    "        loaded_acc = loaded_graph.get_tensor_by_name('accuracy:0')\n",
    "        \n",
    "        # Get accuracy in batches for memory limitations\n",
    "        test_batch_acc_total = 0\n",
    "        test_batch_count = 0\n",
    "        \n",
    "        for train_feature_batch, train_label_batch in helper.batch_features_labels(test_features, test_labels, batch_size):\n",
    "            test_batch_acc_total += sess.run(\n",
    "                loaded_acc,\n",
    "                feed_dict={loaded_x: train_feature_batch, loaded_y: train_label_batch, loaded_keep_prob: 1.0})\n",
    "            test_batch_count += 1\n",
    "\n",
    "        print('Testing Accuracy: {}\\n'.format(test_batch_acc_total/test_batch_count))\n",
    "\n",
    "        # Print Random Samples\n",
    "        random_test_features, random_test_labels = tuple(zip(*random.sample(list(zip(test_features, test_labels)), n_samples)))\n",
    "        random_test_predictions = sess.run(\n",
    "            tf.nn.top_k(tf.nn.softmax(loaded_logits), top_n_predictions),\n",
    "            feed_dict={loaded_x: random_test_features, loaded_y: random_test_labels, loaded_keep_prob: 1.0})\n",
    "        helper.display_image_predictions(random_test_features, random_test_labels, random_test_predictions)\n",
    "\n",
    "\n",
    "test_model()"
   ]
  },
  {
   "cell_type": "markdown",
   "metadata": {},
   "source": [
    "## Why 50-80% Accuracy?\n",
    "You might be wondering why you can't get an accuracy any higher. First things first, 50% isn't bad for a simple CNN.  Pure guessing would get you 10% accuracy. That's because there are many more techniques that can be applied to your model and we recemmond that once you are done with this project, you explore!\n",
    "\n",
    "## Submitting This Project\n",
    "When submitting this project, make sure to run all the cells before saving the notebook.  Save the notebook file as \"image_classification.ipynb\" and save it as a HTML file under \"File\" -> \"Download as\".  Include the \"helper.py\" and \"problem_unittests.py\" files in your submission."
   ]
  },
  {
   "cell_type": "markdown",
   "metadata": {},
   "source": [
    "## 为什么仅有 50%~ 80% 的准确率？\n",
    "\n",
    "你也许会觉得奇怪，为什么你的准确率总是提高不上去。对于简单的 CNN 网络而言，50% 并非是很差的表现。纯粹的猜测只会得到 10% 的准确率（因为一共有 10 类）。这是因为还有许多许多能够应用到你模型的技巧。在你做完了该项目之后，你可以探索探索我们给你推荐的一些方法。\n",
    "\n",
    "\n",
    "## 提交该项目\n",
    "\n",
    "在提交项目前，请确保你在运行了所有的 cell 之后保存了项目。将项目储存为 \"image_classification.ipynb\" 并导出为一个 HTML 文件。你可以再菜单栏中选择 File -> Download as 进行导出。请将 \"helper.py\" 及  \"problem_unittests.py\" 文件也放在你的提交文件中。"
   ]
  },
  {
   "cell_type": "markdown",
   "metadata": {
    "collapsed": true
   },
   "source": [
    "\n",
    "\n"
   ]
  }
 ],
 "metadata": {
  "anaconda-cloud": {},
  "kernelspec": {
   "display_name": "Python 3",
   "language": "python",
   "name": "python3"
  },
  "language_info": {
   "codemirror_mode": {
    "name": "ipython",
    "version": 3
   },
   "file_extension": ".py",
   "mimetype": "text/x-python",
   "name": "python",
   "nbconvert_exporter": "python",
   "pygments_lexer": "ipython3",
   "version": "3.5.3"
  },
  "latex_envs": {
   "LaTeX_envs_menu_present": true,
   "autocomplete": true,
   "bibliofile": "biblio.bib",
   "cite_by": "apalike",
   "current_citInitial": 1,
   "eqLabelWithNumbers": true,
   "eqNumInitial": 1,
   "hotkeys": {
    "equation": "Ctrl-E",
    "itemize": "Ctrl-I"
   },
   "labels_anchors": false,
   "latex_user_defs": false,
   "report_style_numbering": false,
   "user_envs_cfg": false
  }
 },
 "nbformat": 4,
 "nbformat_minor": 0
}
